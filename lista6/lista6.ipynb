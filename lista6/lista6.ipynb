{
 "cells": [
  {
   "cell_type": "markdown",
   "metadata": {},
   "source": [
    "# Reguły asocjacyjne"
   ]
  },
  {
   "cell_type": "markdown",
   "metadata": {},
   "source": [
    "### 1.1 Implementacja algorytmu apriori"
   ]
  },
  {
   "cell_type": "code",
   "execution_count": 380,
   "metadata": {},
   "outputs": [],
   "source": [
    "def support(items, transactions ):\n",
    "    i = 0\n",
    "    for t in transactions:\n",
    "        if items.issubset(t):\n",
    "            i += 1        \n",
    "    return i/len(transactions)\n"
   ]
  },
  {
   "cell_type": "code",
   "execution_count": 383,
   "metadata": {},
   "outputs": [],
   "source": [
    "from itertools import chain\n",
    "from itertools import combinations\n",
    "\n",
    "def subsets(arr):\n",
    "    return chain(*[combinations(arr, i + 1) for i, a in enumerate(arr)])\n"
   ]
  },
  {
   "cell_type": "code",
   "execution_count": 384,
   "metadata": {
    "scrolled": true
   },
   "outputs": [],
   "source": [
    "def my_apriori(transactions, min_support, min_confidence):\n",
    "    \n",
    "    \n",
    "    items = set()\n",
    "    for t in transactions:\n",
    "        for item in t:\n",
    "            if not item in items:\n",
    "                items.add(item)\n",
    "    \n",
    "    \n",
    "    keys = items\n",
    "    vals = np.zeros(len(items), dtype=int)\n",
    "    freq = dict(zip(keys, vals))\n",
    "\n",
    "    for transaction in transactions:\n",
    "        for item in transaction:\n",
    "                    freq[item] += 1\n",
    "    \n",
    "    \n",
    "    support_dict = {k: v/len(transactions) for k, v in freq.items()}\n",
    "    L = {k: v for k, v in support_dict.items() if v >= min_support}\n",
    "\n",
    "    l = []\n",
    "    for k, v in support_dict.items():\n",
    "        if v >= min_support:\n",
    "            l.append( set([k]) )\n",
    "    L = {1 : l}\n",
    "\n",
    "    \n",
    "    k=2\n",
    "    while( L[k-1] ):\n",
    "        L[k] = []\n",
    "        for items_set in L[k-1]:\n",
    "            for item in L[1]:\n",
    "                if not item.issubset(items_set):\n",
    "                    if support(items_set.union(item),transactions) > min_support:\n",
    "                        if not items_set.union(item) in L[k]:\n",
    "                            L[k].append( items_set.union(item) )\n",
    "        k = k+1\n",
    "    \n",
    "    \n",
    "    rules = []\n",
    "    for key, value in L.items():\n",
    "        for item in value:\n",
    "            _subsets = map(set, [x for x in subsets(item)])\n",
    "            for element in _subsets:\n",
    "                remain = item.difference(element)\n",
    "                if len(remain) > 0:\n",
    "                    confidence = np.round(support(item, transactions)/support(element, transactions),3)\n",
    "                    if confidence >= min_confidence:\n",
    "                        supp = np.round( support(item, transactions), 3)\n",
    "                        lift = np.round(confidence / support(remain, transactions), 3)\n",
    "                        leverage = np.round(supp - support(element, transactions) * support(remain, transactions),3)\n",
    "                        rules.append([element, remain, confidence, supp, lift, leverage])\n",
    "    return rules\n",
    "        "
   ]
  },
  {
   "cell_type": "markdown",
   "metadata": {},
   "source": [
    "### 1.2 Test data"
   ]
  },
  {
   "cell_type": "code",
   "execution_count": 387,
   "metadata": {},
   "outputs": [],
   "source": [
    "transactions_test = [{1, 2, 3},\n",
    "{1, 2, 4},\n",
    "{3, 2, 5}]"
   ]
  },
  {
   "cell_type": "markdown",
   "metadata": {},
   "source": [
    "### 1.3 Python Apriori"
   ]
  },
  {
   "cell_type": "code",
   "execution_count": 388,
   "metadata": {},
   "outputs": [
    {
     "name": "stdout",
     "output_type": "stream",
     "text": [
      "{1} -> {2} (conf: 1.000, supp: 0.667, lift: 1.000, conv: 0.000)\n",
      "{3} -> {2} (conf: 1.000, supp: 0.667, lift: 1.000, conv: 0.000)\n"
     ]
    }
   ],
   "source": [
    "from efficient_apriori import apriori\n",
    "itemsets, rules = apriori(transactions_test, 0.5, 1)\n",
    "for rule in rules:\n",
    "    print(rule)"
   ]
  },
  {
   "cell_type": "markdown",
   "metadata": {},
   "source": [
    "### 1.4 My Apriori"
   ]
  },
  {
   "cell_type": "code",
   "execution_count": 391,
   "metadata": {},
   "outputs": [
    {
     "name": "stdout",
     "output_type": "stream",
     "text": [
      "{1} -> {2} conf: 1.0 supp: 0.667 lift: 1.0 leverage: 0.0\n",
      "{3} -> {2} conf: 1.0 supp: 0.667 lift: 1.0 leverage: 0.0\n"
     ]
    }
   ],
   "source": [
    "rules = my_apriori(transactions_test, 0.5, 1)\n",
    "for rule in rules:\n",
    "    print( str(rule[0]) + \" -> \"+ str(rule[1]) + \" conf: \" + str(rule[2]) + \" supp: \" + str(rule[3]) + \" lift: \" + str(rule[4]) + \" leverage: \" + str(rule[5]) )\n"
   ]
  },
  {
   "cell_type": "code",
   "execution_count": 452,
   "metadata": {},
   "outputs": [
    {
     "data": {
      "text/plain": [
       "[{0, 20, 140, 350, 510},\n",
       " {0, 20, 140, 300, 490},\n",
       " {0, 20, 130, 320, 470},\n",
       " {0, 20, 150, 310, 460},\n",
       " {0, 20, 140, 360, 500},\n",
       " {0, 40, 170, 390, 540},\n",
       " {0, 30, 140, 340, 460},\n",
       " {0, 20, 150, 340, 500},\n",
       " {0, 20, 140, 290, 440},\n",
       " {0, 10, 150, 310, 490},\n",
       " {0, 20, 150, 370, 540},\n",
       " {0, 20, 160, 340, 480},\n",
       " {0, 10, 140, 300, 480},\n",
       " {0, 10, 110, 300, 430},\n",
       " {0, 20, 120, 400, 580},\n",
       " {0, 40, 150, 440, 570},\n",
       " {0, 40, 130, 390, 540},\n",
       " {0, 30, 140, 350, 510},\n",
       " {0, 30, 170, 380, 570},\n",
       " {0, 30, 150, 380, 510},\n",
       " {0, 20, 170, 340, 540},\n",
       " {0, 40, 150, 370, 510},\n",
       " {0, 20, 100, 360, 460},\n",
       " {0, 50, 170, 330, 510},\n",
       " {0, 20, 190, 340, 480},\n",
       " {0, 20, 160, 300, 500},\n",
       " {0, 40, 160, 340, 500},\n",
       " {0, 20, 150, 350, 520},\n",
       " {0, 20, 140, 340, 520},\n",
       " {0, 20, 160, 320, 470},\n",
       " {0, 20, 160, 310, 480},\n",
       " {0, 40, 150, 340, 540},\n",
       " {0, 10, 150, 410, 520},\n",
       " {0, 20, 140, 420, 550},\n",
       " {0, 20, 150, 310, 490},\n",
       " {0, 20, 120, 320, 500},\n",
       " {0, 20, 130, 350, 550},\n",
       " {0, 10, 140, 360, 490},\n",
       " {0, 20, 130, 300, 440},\n",
       " {0, 20, 150, 340, 510},\n",
       " {0, 30, 130, 350, 500},\n",
       " {0, 30, 130, 230, 450},\n",
       " {0, 20, 130, 320, 440},\n",
       " {0, 60, 160, 350, 500},\n",
       " {0, 40, 190, 380, 510},\n",
       " {0, 30, 140, 300, 480},\n",
       " {0, 20, 160, 380, 510},\n",
       " {0, 20, 140, 320, 460},\n",
       " {0, 20, 150, 370, 530},\n",
       " {0, 20, 140, 330, 500},\n",
       " {1, 140, 320, 470, 700},\n",
       " {1, 150, 320, 450, 640},\n",
       " {1, 150, 310, 490, 690},\n",
       " {1, 130, 230, 400, 550},\n",
       " {1, 150, 280, 460, 650},\n",
       " {1, 130, 280, 450, 570},\n",
       " {1, 160, 330, 470, 630},\n",
       " {1, 100, 240, 330, 490},\n",
       " {1, 130, 290, 460, 660},\n",
       " {1, 140, 270, 390, 520},\n",
       " {1, 100, 200, 350, 500},\n",
       " {1, 150, 300, 420, 590},\n",
       " {1, 100, 220, 400, 600},\n",
       " {1, 140, 290, 470, 610},\n",
       " {1, 130, 290, 360, 560},\n",
       " {1, 140, 310, 440, 670},\n",
       " {1, 150, 300, 450, 560},\n",
       " {1, 100, 270, 410, 580},\n",
       " {1, 150, 220, 450, 620},\n",
       " {1, 110, 250, 390, 560},\n",
       " {1, 180, 320, 480, 590},\n",
       " {1, 130, 280, 400, 610},\n",
       " {1, 150, 250, 490, 630},\n",
       " {1, 120, 280, 470, 610},\n",
       " {1, 130, 290, 430, 640},\n",
       " {1, 140, 300, 440, 660},\n",
       " {1, 140, 280, 480, 680},\n",
       " {1, 170, 300, 500, 670},\n",
       " {1, 150, 290, 450, 600},\n",
       " {1, 100, 260, 350, 570},\n",
       " {1, 110, 240, 380, 550},\n",
       " {1, 100, 240, 370, 550},\n",
       " {1, 120, 270, 390, 580},\n",
       " {1, 160, 270, 510, 600},\n",
       " {1, 150, 300, 450, 540},\n",
       " {1, 160, 340, 450, 600},\n",
       " {1, 150, 310, 470, 670},\n",
       " {1, 130, 230, 440, 630},\n",
       " {1, 130, 300, 410, 560},\n",
       " {1, 130, 250, 400, 550},\n",
       " {1, 120, 260, 440, 550},\n",
       " {1, 140, 300, 460, 610},\n",
       " {1, 120, 260, 400, 580},\n",
       " {1, 100, 230, 330, 500},\n",
       " {1, 130, 270, 420, 560},\n",
       " {1, 120, 300, 420, 570},\n",
       " {1, 130, 290, 420, 570},\n",
       " {1, 130, 290, 430, 620},\n",
       " {1, 110, 250, 300, 510},\n",
       " {1, 130, 280, 410, 570},\n",
       " {2, 250, 330, 600, 630},\n",
       " {2, 190, 270, 510, 580},\n",
       " {2, 210, 300, 590, 710},\n",
       " {2, 180, 290, 560, 630},\n",
       " {2, 220, 300, 580, 650},\n",
       " {2, 210, 300, 660, 760},\n",
       " {2, 170, 250, 450, 490},\n",
       " {2, 180, 290, 630, 730},\n",
       " {2, 180, 250, 580, 670},\n",
       " {2, 250, 360, 610, 720},\n",
       " {2, 200, 320, 510, 650},\n",
       " {2, 190, 270, 530, 640},\n",
       " {2, 210, 300, 550, 680},\n",
       " {2, 200, 250, 500, 570},\n",
       " {2, 240, 280, 510, 580},\n",
       " {2, 230, 320, 530, 640},\n",
       " {2, 180, 300, 550, 650},\n",
       " {2, 220, 380, 670, 770},\n",
       " {2, 230, 260, 690, 770},\n",
       " {2, 150, 220, 500, 600},\n",
       " {2, 230, 320, 570, 690},\n",
       " {2, 200, 280, 490, 560},\n",
       " {2, 200, 280, 670, 770},\n",
       " {2, 180, 270, 490, 630},\n",
       " {2, 210, 330, 570, 670},\n",
       " {2, 180, 320, 600, 720},\n",
       " {2, 180, 280, 480, 620},\n",
       " {2, 180, 300, 490, 610},\n",
       " {2, 210, 280, 560, 640},\n",
       " {2, 160, 300, 580, 720},\n",
       " {2, 190, 280, 610, 740},\n",
       " {2, 200, 380, 640, 790},\n",
       " {2, 220, 280, 560, 640},\n",
       " {2, 150, 280, 510, 630},\n",
       " {2, 140, 260, 560, 610},\n",
       " {2, 230, 300, 610, 770},\n",
       " {2, 240, 340, 560, 630},\n",
       " {2, 180, 310, 550, 640},\n",
       " {2, 180, 300, 480, 600},\n",
       " {2, 210, 310, 540, 690},\n",
       " {2, 240, 310, 560, 670},\n",
       " {2, 230, 310, 510, 690},\n",
       " {2, 190, 270, 510, 580},\n",
       " {2, 230, 320, 590, 680},\n",
       " {2, 250, 330, 570, 670},\n",
       " {2, 230, 300, 520, 670},\n",
       " {2, 190, 250, 500, 630},\n",
       " {2, 200, 300, 520, 650},\n",
       " {2, 230, 340, 540, 620},\n",
       " {2, 180, 300, 510, 590}]"
      ]
     },
     "execution_count": 452,
     "metadata": {},
     "output_type": "execute_result"
    }
   ],
   "source": [
    "from sklearn.datasets import load_iris\n",
    "iris = load_iris()\n",
    "iris_x = iris.data\n",
    "iris_y = iris.target\n",
    "iris_transactions = []\n",
    "for i in range(150):\n",
    "    if i <50:\n",
    "        s = set(np.round(iris_x[i]*100,0).astype(int) )\n",
    "        s = s.union({0})\n",
    "        iris_transactions.append(s)\n",
    "    if i >= 50 and i <100:\n",
    "        s = set(np.round(iris_x[i]*100,0).astype(int) )\n",
    "        s = s.union({1})\n",
    "        iris_transactions.append(s)\n",
    "    if i >=100 and i <150:\n",
    "        s = set(np.round(iris_x[i]*100,0).astype(int) )\n",
    "        s = s.union({2})\n",
    "        iris_transactions.append(s)\n",
    "iris_transactions\n"
   ]
  },
  {
   "cell_type": "code",
   "execution_count": 457,
   "metadata": {},
   "outputs": [
    {
     "name": "stdout",
     "output_type": "stream",
     "text": [
      "{140} -> {0} conf: 0.619 supp: 0.087 lift: 1.857 leverage: 0.04\n",
      "{0} -> {20} conf: 0.58 supp: 0.193 lift: 3.0 leverage: 0.129\n",
      "{20} -> {0} conf: 1.0 supp: 0.193 lift: 3.0 leverage: 0.129\n",
      "{150} -> {0} conf: 0.52 supp: 0.087 lift: 1.56 leverage: 0.031\n",
      "{340} -> {0} conf: 0.75 supp: 0.06 lift: 2.25 leverage: 0.033\n",
      "{500} -> {0} conf: 0.571 supp: 0.053 lift: 1.713 leverage: 0.022\n",
      "{130} -> {1} conf: 0.65 supp: 0.087 lift: 1.95 leverage: 0.043\n",
      "{280} -> {2} conf: 0.571 supp: 0.053 lift: 1.713 leverage: 0.022\n",
      "{180} -> {2} conf: 0.917 supp: 0.073 lift: 2.751 leverage: 0.046\n",
      "{230} -> {2} conf: 0.667 supp: 0.053 lift: 2.001 leverage: 0.026\n",
      "{0, 140} -> {20} conf: 0.615 supp: 0.053 lift: 3.181 leverage: 0.036\n",
      "{140, 20} -> {0} conf: 1.0 supp: 0.053 lift: 3.0 leverage: 0.035\n"
     ]
    }
   ],
   "source": [
    "rules = my_apriori(iris_transactions, 0.05, .5)\n",
    "for rule in rules:\n",
    "    print( str(rule[0]) + \" -> \"+ str(rule[1]) + \" conf: \" + str(rule[2]) + \" supp: \" + str(rule[3]) + \" lift: \" + str(rule[4]) + \" leverage: \" + str(rule[5]) )"
   ]
  },
  {
   "cell_type": "markdown",
   "metadata": {},
   "source": [
    "# 2 Retail dataset"
   ]
  },
  {
   "cell_type": "markdown",
   "metadata": {},
   "source": [
    "### 2.1 Load data"
   ]
  },
  {
   "cell_type": "code",
   "execution_count": 393,
   "metadata": {},
   "outputs": [],
   "source": [
    "lines = open(\"retail/retail.dat\").read().replace(\" \\n\",\"\\n\").split('\\n')\n",
    "transactions_retail = []\n",
    "for line in lines:\n",
    "    t = set(list(np.fromstring(line,sep=' ', dtype=int)))\n",
    "    transactions_retail.append(t)\n",
    "a = transactions_retail.pop(0)"
   ]
  },
  {
   "cell_type": "markdown",
   "metadata": {},
   "source": [
    "### 2.2 Python apriori"
   ]
  },
  {
   "cell_type": "code",
   "execution_count": 394,
   "metadata": {},
   "outputs": [
    {
     "name": "stdout",
     "output_type": "stream",
     "text": [
      "{39} -> {32} (conf: 0.167, supp: 0.096, lift: 0.970, conv: 0.994)\n",
      "{32} -> {39} (conf: 0.557, supp: 0.096, lift: 0.970, conv: 0.961)\n",
      "{48} -> {32} (conf: 0.191, supp: 0.091, lift: 1.108, conv: 1.023)\n",
      "{32} -> {48} (conf: 0.530, supp: 0.091, lift: 1.108, conv: 1.110)\n",
      "{39} -> {38} (conf: 0.204, supp: 0.117, lift: 1.154, conv: 1.034)\n",
      "{38} -> {39} (conf: 0.663, supp: 0.117, lift: 1.154, conv: 1.263)\n",
      "{48} -> {38} (conf: 0.189, supp: 0.090, lift: 1.066, conv: 1.014)\n",
      "{38} -> {48} (conf: 0.509, supp: 0.090, lift: 1.066, conv: 1.064)\n",
      "{41} -> {39} (conf: 0.764, supp: 0.129, lift: 1.329, conv: 1.800)\n",
      "{39} -> {41} (conf: 0.225, supp: 0.129, lift: 1.329, conv: 1.072)\n",
      "{48} -> {39} (conf: 0.692, supp: 0.331, lift: 1.203, conv: 1.379)\n",
      "{39} -> {48} (conf: 0.575, supp: 0.331, lift: 1.203, conv: 1.229)\n",
      "{48} -> {41} (conf: 0.214, supp: 0.102, lift: 1.263, conv: 1.057)\n",
      "{41} -> {48} (conf: 0.603, supp: 0.102, lift: 1.263, conv: 1.316)\n",
      "{39, 48} -> {32} (conf: 0.185, supp: 0.061, lift: 1.077, conv: 1.016)\n",
      "{32, 48} -> {39} (conf: 0.672, supp: 0.061, lift: 1.170, conv: 1.298)\n",
      "{32, 39} -> {48} (conf: 0.639, supp: 0.061, lift: 1.337, conv: 1.446)\n",
      "{48} -> {32, 39} (conf: 0.128, supp: 0.061, lift: 1.337, conv: 1.037)\n",
      "{39} -> {32, 48} (conf: 0.107, supp: 0.061, lift: 1.170, conv: 1.017)\n",
      "{32} -> {39, 48} (conf: 0.356, supp: 0.061, lift: 1.077, conv: 1.040)\n",
      "{39, 48} -> {38} (conf: 0.209, supp: 0.069, lift: 1.184, conv: 1.041)\n",
      "{38, 48} -> {39} (conf: 0.768, supp: 0.069, lift: 1.336, conv: 1.834)\n",
      "{38, 39} -> {48} (conf: 0.590, supp: 0.069, lift: 1.234, conv: 1.273)\n",
      "{48} -> {38, 39} (conf: 0.145, supp: 0.069, lift: 1.234, conv: 1.032)\n",
      "{39} -> {38, 48} (conf: 0.120, supp: 0.069, lift: 1.336, conv: 1.034)\n",
      "{38} -> {39, 48} (conf: 0.391, supp: 0.069, lift: 1.184, conv: 1.100)\n",
      "{41, 48} -> {39} (conf: 0.817, supp: 0.084, lift: 1.421, conv: 2.321)\n",
      "{39, 48} -> {41} (conf: 0.253, supp: 0.084, lift: 1.491, conv: 1.111)\n",
      "{39, 41} -> {48} (conf: 0.645, supp: 0.084, lift: 1.350, conv: 1.472)\n",
      "{48} -> {39, 41} (conf: 0.175, supp: 0.084, lift: 1.350, conv: 1.055)\n",
      "{41} -> {39, 48} (conf: 0.493, supp: 0.084, lift: 1.491, conv: 1.320)\n",
      "{39} -> {41, 48} (conf: 0.145, supp: 0.084, lift: 1.421, conv: 1.050)\n"
     ]
    }
   ],
   "source": [
    "itemsets, rules = apriori(transactions_retail, min_support=0.05, min_confidence=.1)\n",
    "for rule in rules:\n",
    "    print(rule)"
   ]
  },
  {
   "cell_type": "markdown",
   "metadata": {},
   "source": [
    "### 2.3 My apriori"
   ]
  },
  {
   "cell_type": "code",
   "execution_count": 395,
   "metadata": {},
   "outputs": [
    {
     "name": "stdout",
     "output_type": "stream",
     "text": [
      "{32} -> {39} conf: 0.557 supp: 0.096 lift: 0.969 leverage: -0.003\n",
      "{39} -> {32} conf: 0.167 supp: 0.096 lift: 0.971 leverage: -0.003\n",
      "{32} -> {48} conf: 0.53 supp: 0.091 lift: 1.109 leverage: 0.009\n",
      "{48} -> {32} conf: 0.191 supp: 0.091 lift: 1.11 leverage: 0.009\n",
      "{38} -> {39} conf: 0.663 supp: 0.117 lift: 1.153 leverage: 0.015\n",
      "{39} -> {38} conf: 0.204 supp: 0.117 lift: 1.153 leverage: 0.015\n",
      "{48} -> {38} conf: 0.189 supp: 0.09 lift: 1.068 leverage: 0.005\n",
      "{38} -> {48} conf: 0.509 supp: 0.09 lift: 1.065 leverage: 0.005\n",
      "{41} -> {39} conf: 0.764 supp: 0.129 lift: 1.329 leverage: 0.032\n",
      "{39} -> {41} conf: 0.225 supp: 0.129 lift: 1.327 leverage: 0.032\n",
      "{48} -> {39} conf: 0.692 supp: 0.331 lift: 1.204 leverage: 0.056\n",
      "{39} -> {48} conf: 0.575 supp: 0.331 lift: 1.203 leverage: 0.056\n",
      "{48} -> {41} conf: 0.214 supp: 0.102 lift: 1.262 leverage: 0.021\n",
      "{41} -> {48} conf: 0.603 supp: 0.102 lift: 1.262 leverage: 0.021\n",
      "{32} -> {48, 39} conf: 0.356 supp: 0.061 lift: 1.077 leverage: 0.004\n",
      "{48} -> {32, 39} conf: 0.128 supp: 0.061 lift: 1.335 leverage: 0.015\n",
      "{39} -> {32, 48} conf: 0.107 supp: 0.061 lift: 1.174 leverage: 0.009\n",
      "{32, 48} -> {39} conf: 0.672 supp: 0.061 lift: 1.169 leverage: 0.009\n",
      "{32, 39} -> {48} conf: 0.639 supp: 0.061 lift: 1.337 leverage: 0.015\n",
      "{48, 39} -> {32} conf: 0.185 supp: 0.061 lift: 1.075 leverage: 0.004\n",
      "{48} -> {38, 39} conf: 0.145 supp: 0.069 lift: 1.236 leverage: 0.013\n",
      "{38} -> {48, 39} conf: 0.391 supp: 0.069 lift: 1.183 leverage: 0.011\n",
      "{39} -> {48, 38} conf: 0.12 supp: 0.069 lift: 1.332 leverage: 0.017\n",
      "{48, 38} -> {39} conf: 0.768 supp: 0.069 lift: 1.336 leverage: 0.017\n",
      "{48, 39} -> {38} conf: 0.209 supp: 0.069 lift: 1.181 leverage: 0.011\n",
      "{38, 39} -> {48} conf: 0.59 supp: 0.069 lift: 1.234 leverage: 0.013\n",
      "{48} -> {41, 39} conf: 0.175 supp: 0.084 lift: 1.352 leverage: 0.022\n",
      "{41} -> {48, 39} conf: 0.493 supp: 0.084 lift: 1.491 leverage: 0.028\n",
      "{39} -> {48, 41} conf: 0.145 supp: 0.084 lift: 1.418 leverage: 0.025\n",
      "{48, 41} -> {39} conf: 0.817 supp: 0.084 lift: 1.421 leverage: 0.025\n",
      "{48, 39} -> {41} conf: 0.253 supp: 0.084 lift: 1.492 leverage: 0.028\n",
      "{41, 39} -> {48} conf: 0.645 supp: 0.084 lift: 1.35 leverage: 0.022\n"
     ]
    }
   ],
   "source": [
    "rules = my_apriori(transactions_retail, 0.05, .1)\n",
    "for rule in rules:\n",
    "    print( str(rule[0]) + \" -> \"+ str(rule[1]) + \" conf: \" + str(rule[2]) + \" supp: \" + str(rule[3]) + \" lift: \" + str(rule[4]) + \" leverage: \" + str(rule[5]) )\n"
   ]
  },
  {
   "cell_type": "markdown",
   "metadata": {},
   "source": [
    "# 3 Kosarak dataset"
   ]
  },
  {
   "cell_type": "markdown",
   "metadata": {},
   "source": [
    "### 3.1 Load data"
   ]
  },
  {
   "cell_type": "code",
   "execution_count": 368,
   "metadata": {},
   "outputs": [],
   "source": [
    "\n",
    "lines = open(\"kosarak/kosarak.dat\").read().replace(\" \\n\",\"\\n\").split('\\n')\n",
    "transactions_kosarak = []\n",
    "for line in lines:\n",
    "    t = set(list(np.fromstring(line,sep=' ', dtype=int)))\n",
    "    transactions_kosarak.append(t)"
   ]
  },
  {
   "cell_type": "markdown",
   "metadata": {},
   "source": [
    "### 3.2 My apriori"
   ]
  },
  {
   "cell_type": "code",
   "execution_count": 392,
   "metadata": {},
   "outputs": [
    {
     "name": "stdout",
     "output_type": "stream",
     "text": [
      "{7} -> {6} conf: 0.847 supp: 0.074 lift: 1.394 leverage: 0.021\n",
      "{11} -> {6} conf: 0.89 supp: 0.327 lift: 1.465 leverage: 0.104\n",
      "{27} -> {6} conf: 0.824 supp: 0.06 lift: 1.356 leverage: 0.016\n",
      "{148} -> {6} conf: 0.926 supp: 0.065 lift: 1.524 leverage: 0.022\n",
      "{218} -> {6} conf: 0.877 supp: 0.078 lift: 1.444 leverage: 0.024\n",
      "{148} -> {11} conf: 0.797 supp: 0.056 lift: 2.167 leverage: 0.03\n",
      "{148} -> {218} conf: 0.841 supp: 0.059 lift: 9.397 leverage: 0.053\n",
      "{1, 11} -> {6} conf: 0.937 supp: 0.087 lift: 1.543 leverage: 0.031\n",
      "{3, 11} -> {6} conf: 0.891 supp: 0.145 lift: 1.467 leverage: 0.046\n",
      "{11, 7} -> {6} conf: 0.978 supp: 0.056 lift: 1.61 leverage: 0.021\n",
      "{6, 7} -> {11} conf: 0.759 supp: 0.056 lift: 2.064 leverage: 0.029\n",
      "{148} -> {11, 6} conf: 0.79 supp: 0.056 lift: 2.414 leverage: 0.033\n",
      "{11, 148} -> {6} conf: 0.991 supp: 0.056 lift: 1.631 leverage: 0.022\n",
      "{148, 6} -> {11} conf: 0.853 supp: 0.056 lift: 2.32 leverage: 0.032\n",
      "{218, 11} -> {6} conf: 0.983 supp: 0.061 lift: 1.618 leverage: 0.023\n",
      "{218, 6} -> {11} conf: 0.781 supp: 0.061 lift: 2.124 leverage: 0.032\n",
      "{148} -> {218, 6} conf: 0.813 supp: 0.057 lift: 10.362 leverage: 0.051\n",
      "{218, 148} -> {6} conf: 0.966 supp: 0.057 lift: 1.59 leverage: 0.021\n",
      "{218, 6} -> {148} conf: 0.732 supp: 0.057 lift: 10.364 leverage: 0.051\n",
      "{148, 6} -> {218} conf: 0.878 supp: 0.057 lift: 9.811 leverage: 0.051\n",
      "{148} -> {218, 11} conf: 0.716 supp: 0.051 lift: 11.497 leverage: 0.047\n",
      "{218, 11} -> {148} conf: 0.813 supp: 0.051 lift: 11.511 leverage: 0.047\n",
      "{218, 148} -> {11} conf: 0.852 supp: 0.051 lift: 2.317 leverage: 0.029\n",
      "{11, 148} -> {218} conf: 0.898 supp: 0.051 lift: 10.034 leverage: 0.046\n",
      "{148} -> {218, 11, 6} conf: 0.713 supp: 0.05 lift: 11.642 leverage: 0.046\n",
      "{218, 11} -> {148, 6} conf: 0.809 supp: 0.05 lift: 12.369 leverage: 0.046\n",
      "{218, 148} -> {11, 6} conf: 0.848 supp: 0.05 lift: 2.591 leverage: 0.031\n",
      "{11, 148} -> {218, 6} conf: 0.894 supp: 0.05 lift: 11.394 leverage: 0.046\n",
      "{148, 6} -> {218, 11} conf: 0.77 supp: 0.05 lift: 12.364 leverage: 0.046\n",
      "{218, 11, 148} -> {6} conf: 0.995 supp: 0.05 lift: 1.638 leverage: 0.019\n",
      "{218, 11, 6} -> {148} conf: 0.822 supp: 0.05 lift: 11.638 leverage: 0.046\n",
      "{218, 148, 6} -> {11} conf: 0.877 supp: 0.05 lift: 2.385 leverage: 0.029\n",
      "{11, 148, 6} -> {218} conf: 0.903 supp: 0.05 lift: 10.09 leverage: 0.045\n"
     ]
    }
   ],
   "source": [
    "rules = my_apriori(transactions_kosarak, 0.05, .7)\n",
    "for rule in rules:\n",
    "    print( str(rule[0]) + \" -> \"+ str(rule[1]) + \" conf: \" + str(rule[2]) + \" supp: \" + str(rule[3]) + \" lift: \" + str(rule[4]) + \" leverage: \" + str(rule[5]) )\n"
   ]
  },
  {
   "cell_type": "markdown",
   "metadata": {},
   "source": [
    "### 3.3 Python apriori"
   ]
  },
  {
   "cell_type": "code",
   "execution_count": 378,
   "metadata": {},
   "outputs": [
    {
     "name": "stdout",
     "output_type": "stream",
     "text": [
      "{7} -> {6} (conf: 0.847, supp: 0.074, lift: 1.394, conv: 2.567)\n",
      "{11} -> {6} (conf: 0.890, supp: 0.327, lift: 1.465, conv: 3.568)\n",
      "{27} -> {6} (conf: 0.824, supp: 0.060, lift: 1.356, conv: 2.227)\n",
      "{148} -> {6} (conf: 0.926, supp: 0.065, lift: 1.524, conv: 5.307)\n",
      "{218} -> {6} (conf: 0.877, supp: 0.078, lift: 1.443, conv: 3.184)\n",
      "{148} -> {11} (conf: 0.797, supp: 0.056, lift: 2.168, conv: 3.121)\n",
      "{148} -> {218} (conf: 0.841, supp: 0.059, lift: 9.400, conv: 5.736)\n",
      "{1, 11} -> {6} (conf: 0.937, supp: 0.087, lift: 1.542, conv: 6.229)\n",
      "{3, 11} -> {6} (conf: 0.891, supp: 0.145, lift: 1.467, conv: 3.597)\n",
      "{7, 11} -> {6} (conf: 0.978, supp: 0.056, lift: 1.610, conv: 18.083)\n",
      "{6, 7} -> {11} (conf: 0.759, supp: 0.056, lift: 2.063, conv: 2.618)\n",
      "{11, 148} -> {6} (conf: 0.991, supp: 0.056, lift: 1.631, conv: 41.377)\n",
      "{6, 148} -> {11} (conf: 0.853, supp: 0.056, lift: 2.319, conv: 4.300)\n",
      "{148} -> {6, 11} (conf: 0.790, supp: 0.056, lift: 2.413, conv: 3.202)\n",
      "{11, 218} -> {6} (conf: 0.983, supp: 0.061, lift: 1.619, conv: 23.590)\n",
      "{6, 218} -> {11} (conf: 0.781, supp: 0.061, lift: 2.123, conv: 2.881)\n",
      "{148, 218} -> {6} (conf: 0.966, supp: 0.057, lift: 1.591, conv: 11.633)\n",
      "{6, 218} -> {148} (conf: 0.732, supp: 0.057, lift: 10.360, conv: 3.464)\n",
      "{6, 148} -> {218} (conf: 0.878, supp: 0.057, lift: 9.809, conv: 7.451)\n",
      "{148} -> {6, 218} (conf: 0.813, supp: 0.057, lift: 10.360, conv: 4.925)\n",
      "{148, 218} -> {11} (conf: 0.852, supp: 0.051, lift: 2.316, conv: 4.263)\n",
      "{11, 218} -> {148} (conf: 0.813, supp: 0.051, lift: 11.504, conv: 4.958)\n",
      "{11, 148} -> {218} (conf: 0.898, supp: 0.051, lift: 10.040, conv: 8.968)\n",
      "{148} -> {11, 218} (conf: 0.716, supp: 0.051, lift: 11.504, conv: 3.307)\n",
      "{11, 148, 218} -> {6} (conf: 0.995, supp: 0.050, lift: 1.639, conv: 84.768)\n",
      "{6, 148, 218} -> {11} (conf: 0.877, supp: 0.050, lift: 2.386, conv: 5.154)\n",
      "{6, 11, 218} -> {148} (conf: 0.822, supp: 0.050, lift: 11.645, conv: 5.235)\n",
      "{6, 11, 148} -> {218} (conf: 0.903, supp: 0.050, lift: 10.089, conv: 9.375)\n",
      "{148, 218} -> {6, 11} (conf: 0.848, supp: 0.050, lift: 2.590, conv: 4.418)\n",
      "{11, 218} -> {6, 148} (conf: 0.809, supp: 0.050, lift: 12.366, conv: 4.887)\n",
      "{11, 148} -> {6, 218} (conf: 0.894, supp: 0.050, lift: 11.398, conv: 8.720)\n",
      "{6, 148} -> {11, 218} (conf: 0.770, supp: 0.050, lift: 12.366, conv: 4.079)\n",
      "{148} -> {6, 11, 218} (conf: 0.713, supp: 0.050, lift: 11.645, conv: 3.273)\n"
     ]
    }
   ],
   "source": [
    "itemsets, rules = apriori(transactions_kosarak, min_support=0.05, min_confidence=.7)\n",
    "for rule in rules:\n",
    "    print(rule)"
   ]
  }
 ],
 "metadata": {
  "kernelspec": {
   "display_name": "Python 3",
   "language": "python",
   "name": "python3"
  },
  "language_info": {
   "codemirror_mode": {
    "name": "ipython",
    "version": 3
   },
   "file_extension": ".py",
   "mimetype": "text/x-python",
   "name": "python",
   "nbconvert_exporter": "python",
   "pygments_lexer": "ipython3",
   "version": "3.6.9"
  }
 },
 "nbformat": 4,
 "nbformat_minor": 2
}
